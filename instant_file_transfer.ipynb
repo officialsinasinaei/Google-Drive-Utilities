{
  "nbformat": 4,
  "nbformat_minor": 0,
  "metadata": {
    "colab": {
      "provenance": []
    },
    "kernelspec": {
      "name": "python3",
      "display_name": "Python 3"
    },
    "language_info": {
      "name": "python"
    }
  },
  "cells": [
    {
      "cell_type": "code",
      "execution_count": null,
      "metadata": {
        "id": "BuuLay6jUBMo"
      },
      "outputs": [],
      "source": [
        "# Import the necessary libraries\n",
        "from google.colab import drive\n",
        "import os\n",
        "import shutil"
      ]
    },
    {
      "cell_type": "code",
      "source": [
        "# Mount your Google Drive\n",
        "drive.mount('/content/drive')"
      ],
      "metadata": {
        "colab": {
          "base_uri": "https://localhost:8080/"
        },
        "id": "yU6Wb7RwUFEe",
        "outputId": "c627f4df-921e-47c9-9f6d-1b3b9a83bc01"
      },
      "execution_count": null,
      "outputs": [
        {
          "output_type": "stream",
          "name": "stdout",
          "text": [
            "Drive already mounted at /content/drive; to attempt to forcibly remount, call drive.mount(\"/content/drive\", force_remount=True).\n"
          ]
        }
      ]
    },
    {
      "cell_type": "code",
      "source": [
        "# Define the source and destination folders\n",
        "source_folder = '/content/drive/'\n",
        "destination_folder = '/content/drive/'"
      ],
      "metadata": {
        "id": "is29A5wtURDl"
      },
      "execution_count": null,
      "outputs": []
    },
    {
      "cell_type": "code",
      "source": [
        "# Get a list of all the files in the source folder\n",
        "files = os.listdir(source_folder)"
      ],
      "metadata": {
        "id": "RjBWhqVwUUDl"
      },
      "execution_count": null,
      "outputs": []
    },
    {
      "cell_type": "code",
      "source": [
        "# Iterate over the files and move them to the destination folder\n",
        "for file in files:\n",
        "  shutil.move(os.path.join(source_folder, file), os.path.join(destination_folder, file))\n",
        "  # Print a message to confirm that the files have been moved\n",
        "print('The files have been successfully moved.')"
      ],
      "metadata": {
        "colab": {
          "base_uri": "https://localhost:8080/"
        },
        "id": "4k5jKBH7UNte",
        "outputId": "8bec0b4d-4b0b-4772-e30a-377a84961610"
      },
      "execution_count": null,
      "outputs": [
        {
          "output_type": "stream",
          "name": "stdout",
          "text": [
            "The files have been successfully moved.\n"
          ]
        }
      ]
    }
  ]
}