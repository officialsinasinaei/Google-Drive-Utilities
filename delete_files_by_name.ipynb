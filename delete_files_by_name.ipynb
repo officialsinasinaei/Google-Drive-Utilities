{
  "nbformat": 4,
  "nbformat_minor": 0,
  "metadata": {
    "colab": {
      "provenance": []
    },
    "kernelspec": {
      "name": "python3",
      "display_name": "Python 3"
    },
    "language_info": {
      "name": "python"
    }
  },
  "cells": [
    {
      "cell_type": "code",
      "execution_count": null,
      "metadata": {
        "id": "sIy819yEAnZY"
      },
      "outputs": [],
      "source": [
        "# Import the necessary libraries\n",
        "from google.colab import drive\n",
        "from google.colab import files\n",
        "import os\n",
        "import shutil"
      ]
    },
    {
      "cell_type": "code",
      "source": [
        "# Mount your Google Drive\n",
        "drive.mount('/content/drive')"
      ],
      "metadata": {
        "id": "Dewg_0mhAtQN",
        "colab": {
          "base_uri": "https://localhost:8080/"
        },
        "outputId": "b3880c86-e426-49ca-ffa7-032da567cf34"
      },
      "execution_count": null,
      "outputs": [
        {
          "output_type": "stream",
          "name": "stdout",
          "text": [
            "Mounted at /content/drive\n"
          ]
        }
      ]
    },
    {
      "cell_type": "code",
      "source": [
        "\n",
        "# Get the path to the folder where your photos are stored\n",
        "photos_folder = '/content/drive/MyDrive/'"
      ],
      "metadata": {
        "id": "SxwMPjD3AteE"
      },
      "execution_count": null,
      "outputs": []
    },
    {
      "cell_type": "code",
      "source": [
        "# List all the files in the folder\n",
        "files = os.listdir(photos_folder)"
      ],
      "metadata": {
        "id": "3-S6leapAttU"
      },
      "execution_count": null,
      "outputs": []
    },
    {
      "cell_type": "code",
      "source": [
        "# Print the files that contain '#change' in them\n",
        "for file in files:\n",
        "    if '#change' in file:\n",
        "        print(file)"
      ],
      "metadata": {
        "id": "FTj5rDiPAt88"
      },
      "execution_count": null,
      "outputs": []
    },
    {
      "cell_type": "code",
      "source": [
        "# Delete all the files that contain '#change' in them\n",
        "for file in files:\n",
        "    if '#change' in file:\n",
        "        os.remove(os.path.join(photos_folder, file))\n",
        "\n",
        "# Print a message to confirm that the files have been deleted\n",
        "print('The files have been deleted.')"
      ],
      "metadata": {
        "id": "OIeFEsBIAuPd",
        "colab": {
          "base_uri": "https://localhost:8080/"
        },
        "outputId": "c3d5144f-9b2a-419b-eaa2-1704a016572e"
      },
      "execution_count": null,
      "outputs": [
        {
          "output_type": "stream",
          "name": "stdout",
          "text": [
            "The files have been deleted.\n"
          ]
        }
      ]
    }
  ]
}